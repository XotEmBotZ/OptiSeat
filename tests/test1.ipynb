{
 "cells": [
  {
   "cell_type": "code",
   "execution_count": 2,
   "metadata": {},
   "outputs": [],
   "source": [
    "import sqlite3"
   ]
  },
  {
   "cell_type": "code",
   "execution_count": 34,
   "metadata": {},
   "outputs": [],
   "source": [
    "conn=sqlite3.connect(\"./test.db\")\n",
    "cur=conn.cursor()"
   ]
  },
  {
   "cell_type": "code",
   "execution_count": 16,
   "metadata": {},
   "outputs": [],
   "source": [
    "conn.close()"
   ]
  },
  {
   "cell_type": "code",
   "execution_count": null,
   "metadata": {},
   "outputs": [],
   "source": [
    "cur.executescript(\"\"\"\n",
    "-- Create the 'teachers' table\n",
    "CREATE TABLE teacher (\n",
    "    id INTEGEREGER PRIMARY KEY AUTOINCREMENT,\n",
    "    name VARCHAR NOT NULL\n",
    ");\n",
    "\n",
    "-- Create the 'rooms' table\n",
    "CREATE TABLE room (\n",
    "    id INTEGEREGER PRIMARY KEY AUTOINCREMENT,\n",
    "    name CHAR(3) NOT NULL,\n",
    "    num_benches INTEGER NOT NULL,\n",
    "    bench_stud INTEGER DEFAULT 2 NOT NULL\n",
    ");\n",
    "\n",
    "-- Create the 'students' table\n",
    "CREATE TABLE student (\n",
    "    id INTEGEREGER PRIMARY KEY AUTOINCREMENT,\n",
    "    std INTEGER NOT NULL,\n",
    "    sec CHAR(1) NOT NULL,\n",
    "    sub CHAR(3) NOT NULL,\n",
    "    is_seq BOOLEAN NOT NULL,\n",
    "    roll_start INTEGER,\n",
    "    roll_end INTEGER,\n",
    "    roll_arr INTEGER[]\n",
    ");\n",
    "\n",
    "-- Create the 'timetabl' table\n",
    "CREATE TABLE timetable (\n",
    "    id INTEGEREGER PRIMARY KEY AUTOINCREMENT,\n",
    "    date DATE NOT NULL,\n",
    "    std INTEGER NOT NULL,\n",
    "    sub CHAR(3) NOT NULL\n",
    ");\n",
    "\"\"\")\n",
    "conn.commit()"
   ]
  },
  {
   "cell_type": "code",
   "execution_count": 51,
   "metadata": {},
   "outputs": [
    {
     "name": "stdout",
     "output_type": "stream",
     "text": [
      "13\n"
     ]
    }
   ],
   "source": [
    "cur.execute(f\"INSERT INTO room (name,num_benches,bench_stud) VALUES ('{\"asdasd\"}',{23},{2}) returning id;\")\n",
    "print(cur.fetchone()[0])\n",
    "conn.commit()"
   ]
  }
 ],
 "metadata": {
  "kernelspec": {
   "display_name": "env",
   "language": "python",
   "name": "python3"
  },
  "language_info": {
   "codemirror_mode": {
    "name": "ipython",
    "version": 3
   },
   "file_extension": ".py",
   "mimetype": "text/x-python",
   "name": "python",
   "nbconvert_exporter": "python",
   "pygments_lexer": "ipython3",
   "version": "3.12.7"
  }
 },
 "nbformat": 4,
 "nbformat_minor": 2
}
